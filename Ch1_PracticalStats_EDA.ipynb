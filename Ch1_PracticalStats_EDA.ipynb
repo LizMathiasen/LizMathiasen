{
  "nbformat": 4,
  "nbformat_minor": 0,
  "metadata": {
    "colab": {
      "name": "Ch1_PracticalStats_EDA.ipynb",
      "provenance": [],
      "authorship_tag": "ABX9TyMjRMvtVs8K3bUib2VBtCBp",
      "include_colab_link": true
    },
    "kernelspec": {
      "name": "python3",
      "display_name": "Python 3"
    },
    "language_info": {
      "name": "python"
    }
  },
  "cells": [
    {
      "cell_type": "markdown",
      "metadata": {
        "id": "view-in-github",
        "colab_type": "text"
      },
      "source": [
        "<a href=\"https://colab.research.google.com/github/LizMathiasen/LizMathiasen/blob/main/Ch1_PracticalStats_EDA.ipynb\" target=\"_parent\"><img src=\"https://colab.research.google.com/assets/colab-badge.svg\" alt=\"Open In Colab\"/></a>"
      ]
    },
    {
      "cell_type": "code",
      "metadata": {
        "id": "CL9knNgzJSwP"
      },
      "source": [
        ""
      ],
      "execution_count": null,
      "outputs": []
    },
    {
      "cell_type": "markdown",
      "metadata": {
        "id": "UgjgTj-IJcFi"
      },
      "source": [
        "**Exploratory Data Science**\n",
        "\n",
        "*Key Terms*\n",
        "\n",
        "Numeric: Data on a numeric scale\n",
        "\n",
        "  Continuous: interval, float, numeric\n",
        "\n",
        "  Discrete: only integer values, like counts\n",
        "\n",
        "Categorical: Data only takes on a specific set of values representing categories\n",
        "\n",
        "Binary: just 2 categories (e.g. 0/1, true/false)\n",
        "\n",
        "Ordinal: has an explicit order (1st, 2nd, 3rd)\n"
      ]
    },
    {
      "cell_type": "markdown",
      "metadata": {
        "id": "OVSqgdCILIsp"
      },
      "source": [
        "**Handling Ordinal Data**\n",
        "\n",
        "R: ordinal data can be represented as ordered.factor\n",
        "- preserves user-specified ordering in charts, tables, models\n",
        "\n",
        "Python: scikit-learn supports ordinal data with sklearn.preprocessing.OrdinalEncoder\n",
        "\n",
        "\n"
      ]
    },
    {
      "cell_type": "markdown",
      "metadata": {
        "id": "yV0cZuCAONMQ"
      },
      "source": [
        "**Rectangular Data**\n",
        "A 2D matrix with rows indicating records (cases) and columns indicating features (variables)\n",
        "\n",
        "R & Python use the specific format \"dataframe\"\n",
        "\n",
        "Must process/manipulate unstructured data into dataframes \n",
        "\n",
        "Feature: a column (attribute, input, predictor, variable)\n",
        "\n",
        "Outcome: is predicted (yes/no) by the features (dependent variable, response, target, output)\n",
        "\n",
        "Records: a row within a table (case, example, instance, pattern, observation, sample)"
      ]
    },
    {
      "cell_type": "code",
      "metadata": {
        "id": "9ohkEwfArHCY"
      },
      "source": [
        ""
      ],
      "execution_count": null,
      "outputs": []
    }
  ]
}